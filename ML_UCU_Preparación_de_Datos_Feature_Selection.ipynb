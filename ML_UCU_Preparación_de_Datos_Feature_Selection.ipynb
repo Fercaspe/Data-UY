{
  "nbformat": 4,
  "nbformat_minor": 0,
  "metadata": {
    "colab": {
      "provenance": [],
      "include_colab_link": true
    },
    "kernelspec": {
      "name": "python3",
      "display_name": "Python 3"
    },
    "language_info": {
      "name": "python"
    }
  },
  "cells": [
    {
      "cell_type": "markdown",
      "metadata": {
        "id": "view-in-github",
        "colab_type": "text"
      },
      "source": [
        "<a href=\"https://colab.research.google.com/github/Fercaspe/Data-UY/blob/main/ML_UCU_Preparaci%C3%B3n_de_Datos_Feature_Selection.ipynb\" target=\"_parent\"><img src=\"https://colab.research.google.com/assets/colab-badge.svg\" alt=\"Open In Colab\"/></a>"
      ]
    },
    {
      "cell_type": "markdown",
      "source": [
        "# Usando ScikitLearn\n",
        "## Preparación de Datos - Feature Selection\n",
        "\n",
        "Autor: Gustavo Vazquez (material propio y de Jason Brownlee - Data Preparation for Machine Learning - Data Cleaning, Feature Selection, and Data-machine learning mastery)"
      ],
      "metadata": {
        "id": "_L_BKcnTCmLV"
      }
    },
    {
      "cell_type": "markdown",
      "source": [
        "# Preparación de datos - contaminación de datos de testeo en entrenamiento (data leakage)\n",
        "\n",
        "La preparación de datos es el proceso de transformar los datos originales a una forma que sea apropiada para el modelado. El data leakage (o contaminación) se produce cuando se utiliza información externa al conjunto de datos de entrenamiento para crear el modelo.\n",
        "\n",
        "Un enfoque errado al momento de preparar los datos es aplicar las transformaciones en todo el dataset. Cuando  esto sucede, se filtra información relativa al conjunto de datos de testeo en el de entrenamiento, violando uno de los principios fundamentales del desarrollo de modelos. Esto puede dar como resultado una estimación incorrecta del rendimiento del modelo al hacer predicciones sobre esos supuestos nuevos datos.\n",
        "Se requiere una aplicación cuidadosa de las técnicas de preparación de datos para evitar el data leakage, y esto varía según el esquema de evaluación del modelo utilizado.\n",
        "\n",
        "#Efecto de aplicar las transformaciones en todo el dataset\n",
        "Como se indicó anteriormente, un error común es aplicar las transformaciones al dataset completo. Luego el data set es dividido en conjuntos de entrenamiento y testeo (o con un esquema k-fold cross-validation). Sin embargo este enfoque es peligroso e incorrecto. Esta no es una forma directa de contaminación del proceso de entrenamiento, ya que no se usan los valores explícitos de testeo al momento de aprender el modelo sino que se filtra información \"extra\" del conjunto de testeo.\n",
        "\n",
        "Por ejemplo, consideremos el caso donde buscamos normalizar los datos. Cuando normalizamos las variables de entrada (consideremos una normalización escalando los valores entre el rango [0,1]), esto requiere que calculemos los valores máximos y mínimos para cada variable. Luego el dataset se separa en conjuntos de entrenamiento y testeo, pero los ejemplos en el conjunto de entrenamiento conocen una característica el conjunto de testeo, que es la escala que tiene.\n",
        "\n",
        "La misma situación ocurre con prácticamente todas las técnicas de preparación de los datos. Por ejemplo la estandarización estima la media y el desvío estándar, por lo que contar con esa información de los datos de testeo en el entrenamiento es una situación no deseable (pues son datos que en definitiva no deberíamos conocer). Algo similar ocurre en modelos que imputan valores faltantes usando erróneamente todo el dataset.\n",
        "\n",
        "La forma correcta debe ser:\n",
        "\n",
        "1.\tDividir Datos en entrenamiento y testeo (o el mecanismo utilizado)\n",
        "2.\tAjustar la preparación de los datos en el dataset de entrenamiento\n",
        "3.\tAplicar esa preparación en los conjuntos de entrenamiento y testeo\n",
        "4.\tEvaluar los modelos\n",
        "\n",
        "## Forma errónea usando conjuntos de entrenamiento y testeo\n"
      ],
      "metadata": {
        "id": "nIMPyaGJmplw"
      }
    },
    {
      "cell_type": "code",
      "source": [
        "# enfoque incorrecto de normalizar los datos antes de separar los datos\n",
        "from sklearn.datasets import make_classification\n",
        "from sklearn.model_selection import train_test_split\n",
        "from sklearn.preprocessing import MinMaxScaler\n",
        "from sklearn.linear_model import LogisticRegression\n",
        "from sklearn.metrics import accuracy_score\n",
        "# construimos el dataset en forma sintética\n",
        "X, y = make_classification(n_samples=1000, n_features=20, n_informative=15, n_redundant=5,\n",
        "random_state=12)\n",
        "# escala los datos (MinMaxScaler por defecto transforma todo entre 0 y 1)\n",
        "scaler = MinMaxScaler()\n",
        "X = scaler.fit_transform(X)\n",
        "# split\n",
        "X_train, X_test, y_train, y_test = train_test_split(X, y, test_size=0.33, random_state=23)\n",
        "# definirmos el modelo logístico y entrenamos\n",
        "model = LogisticRegression()\n",
        "model.fit(X_train, y_train)\n",
        "# evaluación\n",
        "yhat = model.predict(X_test)\n",
        "# evaluamos accuracy\n",
        "accuracy = accuracy_score(y_test, yhat)\n",
        "print(f\"Accuracy: {accuracy*100:5.2f}\" )\n"
      ],
      "metadata": {
        "colab": {
          "base_uri": "https://localhost:8080/"
        },
        "id": "TSv-GhWEt5DW",
        "outputId": "4225a31c-f749-49f3-88cd-4c4c1eaf4a7e"
      },
      "execution_count": null,
      "outputs": [
        {
          "output_type": "stream",
          "name": "stdout",
          "text": [
            "Accuracy: 83.03\n"
          ]
        }
      ]
    },
    {
      "cell_type": "markdown",
      "source": [
        "## Evaluación con preparación de datos correcta"
      ],
      "metadata": {
        "id": "6MzkPwLzuHce"
      }
    },
    {
      "cell_type": "code",
      "source": [
        "# enfoque correcto de normalizar los datos antes de separar los datos\n",
        "from sklearn.datasets import make_classification\n",
        "from sklearn.model_selection import train_test_split\n",
        "from sklearn.preprocessing import MinMaxScaler\n",
        "from sklearn.linear_model import LogisticRegression\n",
        "from sklearn.metrics import accuracy_score\n",
        "# construimos el dataset en forma sintética\n",
        "X, y = make_classification(n_samples=1000, n_features=20, n_informative=15, n_redundant=5,\n",
        "random_state=12)\n",
        "# split\n",
        "X_train, X_test, y_train, y_test = train_test_split(X, y, test_size=0.33, random_state=23)\n",
        "# escala los datos (MinMaxScaler por defecto transforma todo entre 0 y 1)\n",
        "scaler = MinMaxScaler()\n",
        "# generamos el \"modelo\" para escalar los datos (tomando como referencia los datos de X_train)\n",
        "scaler.fit(X_train)\n",
        "# aplicamos al set de entrenamiento\n",
        "X_train = scaler.transform(X_train)\n",
        "\n",
        "# definirmos el modelo logístico y entrenamos\n",
        "model = LogisticRegression()\n",
        "model.fit(X_train, y_train)\n",
        "\n",
        "# aplicamos al set de test\n",
        "X_test = scaler.transform(X_test)\n",
        "# predecimos\n",
        "yhat = model.predict(X_test)\n",
        "# evaluamos accuracy\n",
        "accuracy = accuracy_score(y_test, yhat)\n",
        "print('Accuracy: %.3f' % (accuracy*100))"
      ],
      "metadata": {
        "colab": {
          "base_uri": "https://localhost:8080/"
        },
        "id": "il1B56rquOba",
        "outputId": "dc87e963-a391-452f-856c-c830a82755bd"
      },
      "execution_count": null,
      "outputs": [
        {
          "output_type": "stream",
          "name": "stdout",
          "text": [
            "Accuracy: 82.727\n"
          ]
        }
      ]
    },
    {
      "cell_type": "markdown",
      "source": [
        "## Forma errónea utilizando k-fold cross validation"
      ],
      "metadata": {
        "id": "-uClVWlKu5jH"
      }
    },
    {
      "cell_type": "code",
      "source": [
        "# enfoque incorrecto de normalizar los datos antes de separar los datos\n",
        "from numpy import mean\n",
        "from numpy import std\n",
        "from sklearn.datasets import make_classification\n",
        "from sklearn.model_selection import cross_val_score\n",
        "from sklearn.model_selection import RepeatedStratifiedKFold\n",
        "from sklearn.preprocessing import MinMaxScaler\n",
        "from sklearn.linear_model import LogisticRegression\n",
        "# construimos el dataset en forma sintética\n",
        "X, y = make_classification(n_samples=1000, n_features=20, n_informative=15, n_redundant=5,\n",
        "random_state=11)\n",
        "# escala los datos (MinMaxScaler por defecto transforma todo entre 0 y 1)\n",
        "scaler = MinMaxScaler()\n",
        "X = scaler.fit_transform(X)\n",
        "# definimos el modelo\n",
        "model = LogisticRegression()\n",
        "# hacemos un k-flod cross val (k=10) múltiple\n",
        "cv = RepeatedStratifiedKFold(n_splits=10, n_repeats=3, random_state=1)\n",
        "# evaluamos todos los modelos\n",
        "scores = cross_val_score(model, X, y, scoring='accuracy', cv=cv, n_jobs=-1)\n",
        "# reportamos performance (promedio de todos los scores de accuracy de los modelos)\n",
        "print('Accuracy: %.3f (%.3f)' % (mean(scores)*100, std(scores)*100))\n",
        "scores\n"
      ],
      "metadata": {
        "colab": {
          "base_uri": "https://localhost:8080/"
        },
        "id": "1v_wagakjHtl",
        "outputId": "72d2139d-7200-43d7-a530-3ffa2fc9e04d"
      },
      "execution_count": null,
      "outputs": [
        {
          "output_type": "stream",
          "name": "stdout",
          "text": [
            "Accuracy: 83.100 (3.448)\n"
          ]
        },
        {
          "output_type": "execute_result",
          "data": {
            "text/plain": [
              "array([0.8 , 0.85, 0.86, 0.81, 0.84, 0.82, 0.81, 0.79, 0.81, 0.91, 0.86,\n",
              "       0.74, 0.82, 0.84, 0.85, 0.84, 0.84, 0.82, 0.81, 0.88, 0.91, 0.83,\n",
              "       0.83, 0.79, 0.82, 0.87, 0.81, 0.85, 0.81, 0.81])"
            ]
          },
          "metadata": {},
          "execution_count": 3
        }
      ]
    },
    {
      "cell_type": "markdown",
      "source": [
        "## Forma correcta utilizando k-fold cross validation\n",
        "\n",
        "Debemos tener en cuenta que ahora el escalado debe ser aplicado a cada una de las particiones (recordar que con k-fold cv generaremos k modelos, y por lo tanto se deberá aplicar el preprocesamiento en cada caso).\n",
        "Para simplifica esto `scikitlearn` nos proporciona los `pipelines`, que condensa dentro de una misma estructura la secuencia de transformaciones u operaciones que se aplicarán sobre los datos. Un pipeline será una lista de tuplas, donde el primer elemento de cada tupla es un nombre que le damos a la transformación/procesamiento y el segundo el método asociado."
      ],
      "metadata": {
        "id": "R_hgGFjbjJAP"
      }
    },
    {
      "cell_type": "code",
      "source": [
        "# correct data preparation for model evaluation with k-fold cross-validation\n",
        "from numpy import mean\n",
        "from numpy import std\n",
        "from sklearn.datasets import make_classification\n",
        "from sklearn.model_selection import cross_val_score\n",
        "from sklearn.model_selection import RepeatedStratifiedKFold\n",
        "from sklearn.preprocessing import MinMaxScaler\n",
        "from sklearn.linear_model import LogisticRegression\n",
        "from sklearn.pipeline import Pipeline\n",
        "# construimos el dataset en forma sintética\n",
        "X, y = make_classification(n_samples=1000, n_features=20, n_informative=15, n_redundant=5,\n",
        "random_state=11)\n",
        "# definimos la estructura del pipeline\n",
        "steps = [\n",
        "    ('scaler', MinMaxScaler()),    # Escaladoxcon MinMax\n",
        "    ('classifier', LogisticRegression())    # Modelo\n",
        "]\n",
        "# y construimos el objeto pipeline\n",
        "pipeline = Pipeline(steps)\n",
        "# hacemos un k-flod cross val (k=10) múltiple\n",
        "cv = RepeatedStratifiedKFold(n_splits=10, n_repeats=3, random_state=1)\n",
        "# evaluamos el modelo, pero automáticamente aplica el pipeline en cada split\n",
        "scores = cross_val_score(pipeline, X, y, scoring='accuracy', cv=cv, n_jobs=-1)\n",
        "# report performance\n",
        "print('Accuracy: %.3f (%.3f)' % (mean(scores)*100, std(scores)*100))\n"
      ],
      "metadata": {
        "colab": {
          "base_uri": "https://localhost:8080/"
        },
        "id": "7-VrRoeSjNvk",
        "outputId": "8c25bc1f-c919-4ed2-d0b7-c4dd10f9de37"
      },
      "execution_count": null,
      "outputs": [
        {
          "output_type": "stream",
          "name": "stdout",
          "text": [
            "Accuracy: 83.100 (3.419)\n"
          ]
        }
      ]
    },
    {
      "cell_type": "markdown",
      "source": [
        "Qué sucede si quiero ver la matriz de confusión asociada? Recordar que `RepeatedStratifiedKFold` genera múltiples k-fold cv para y promedia el scoring obtenido en cada particionamiento. En este caso usaremos solo `StratifiedKFold`, que genera un solo particionamiento y sobre ese particionamiento evaluaremos la matriz de confusión.\n"
      ],
      "metadata": {
        "id": "-TRhlpR4zyT7"
      }
    },
    {
      "cell_type": "code",
      "source": [
        "import numpy as np\n",
        "from sklearn.datasets import make_classification\n",
        "from sklearn.model_selection import cross_val_predict, cross_val_score, KFold\n",
        "from sklearn.preprocessing import MinMaxScaler\n",
        "from sklearn.linear_model import LogisticRegression\n",
        "from sklearn.pipeline import Pipeline\n",
        "from sklearn.metrics import accuracy_score, precision_score, recall_score, f1_score, confusion_matrix\n",
        "\n",
        "# Crear un conjunto de datos de ejemplo utilizando make_classification\n",
        "X, y = make_classification(n_samples=1000, n_features=20, n_informative=15, n_redundant=5, random_state=7)\n",
        "\n",
        "# Crear el escalador MinMax\n",
        "scaler = MinMaxScaler()\n",
        "\n",
        "# Crear el modelo de regresión logística\n",
        "model = LogisticRegression()\n",
        "\n",
        "steps = [\n",
        "    ('scaler', MinMaxScaler()),    # Escaladoxcon MinMax\n",
        "    ('classifier', LogisticRegression())    # Modelo\n",
        "]\n",
        "\n",
        "# y construimos el objeto pipeline\n",
        "pipeline = Pipeline(steps)\n",
        "# Definir el número de splits para la validación cruzada (k)\n",
        "kf = KFold(n_splits=10)\n",
        "\n",
        "# Realizar validación cruzada y calcular las métricas utilizando el pipeline\n",
        "accuracy_scores = cross_val_score(pipeline, X, y, cv=kf, scoring='accuracy')\n",
        "precision_scores = cross_val_score(pipeline, X, y, cv=kf, scoring='precision')\n",
        "recall_scores = cross_val_score(pipeline, X, y, cv=kf, scoring='recall')\n",
        "f1_scores = cross_val_score(pipeline, X, y, cv=kf, scoring='f1')\n",
        "\n",
        "# Obtener predicciones para la matriz de confusión utilizando el pipeline\n",
        "# (notar que aplicamos el pipeline)\n",
        "y_pred = cross_val_predict(pipeline, X, y, cv=kf)\n",
        "\n",
        "# Calcular la matriz de confusión\n",
        "conf_matrix = confusion_matrix(y, y_pred)\n",
        "\n",
        "# Imprimir los resultados\n",
        "print(\"Accuracy:\", np.mean(accuracy_scores))\n",
        "print(\"Precision:\", np.mean(precision_scores))\n",
        "print(\"Recall:\", np.mean(recall_scores))\n",
        "print(\"F1 Score:\", np.mean(f1_scores))\n",
        "print(\"Confusion Matrix:\\n\", conf_matrix)\n"
      ],
      "metadata": {
        "colab": {
          "base_uri": "https://localhost:8080/"
        },
        "id": "nsUErwUy2mWb",
        "outputId": "fbf369c4-0e46-45e7-d1f8-6466f2688424"
      },
      "execution_count": null,
      "outputs": [
        {
          "output_type": "stream",
          "name": "stdout",
          "text": [
            "Accuracy: 0.8489999999999999\n",
            "Precision: 0.8450286653836226\n",
            "Recall: 0.8516940109929901\n",
            "F1 Score: 0.8479468459866044\n",
            "Confusion Matrix:\n",
            " [[424  77]\n",
            " [ 74 425]]\n"
          ]
        }
      ]
    },
    {
      "cell_type": "code",
      "source": [],
      "metadata": {
        "id": "3i8v-HbEA5xX"
      },
      "execution_count": null,
      "outputs": []
    },
    {
      "cell_type": "markdown",
      "source": [
        "# Data Cleaning\n",
        "La limpieza de datos se refiere a identificar y corregir errores en el dataset que pueden afectar negativamente en un modelo predictivo. Existen diferentes tipos de errores en un dataset, aunque los dos más simples son cuando las columnas que no contienen suficiente información y las filas aparecen duplicadas.\n",
        "\n",
        "## Identificando columnas que tienen un solo valor\n",
        "Las columnas que tienen un único valor son inútiles para el modelado. Estas columnas o predictores se denominan predictores de varianza cero y por lo tanto no tienen capacidad predictiva.\n",
        "\n",
        "El siguiente ejemplo usa el método `unique` de `Numpy`\n",
        "\n",
        "\n"
      ],
      "metadata": {
        "id": "mYeGyvo6kDs8"
      }
    },
    {
      "cell_type": "markdown",
      "source": [],
      "metadata": {
        "id": "SG0MOqilldna"
      }
    },
    {
      "cell_type": "code",
      "source": [
        "# summarize the number of unique values for each column using numpy\n",
        "from numpy import loadtxt\n",
        "from numpy import unique\n",
        "# load the dataset\n",
        "\n",
        "data = loadtxt(\"https://github.com/gustavovazquez/datasets/raw/main/oil-spill.csv\", delimiter=',')\n",
        "# summarize the number of unique values in each column\n",
        "for i in range(data.shape[1]):\n",
        "    print(i, len(unique(data[:, i])))\n"
      ],
      "metadata": {
        "colab": {
          "base_uri": "https://localhost:8080/"
        },
        "id": "odRL-hpnkItY",
        "outputId": "234cd038-1626-4ec8-a834-ee1dd5bc6ed4"
      },
      "execution_count": null,
      "outputs": [
        {
          "output_type": "stream",
          "name": "stdout",
          "text": [
            "0 238\n",
            "1 297\n",
            "2 927\n",
            "3 933\n",
            "4 179\n",
            "5 375\n",
            "6 820\n",
            "7 618\n",
            "8 561\n",
            "9 57\n",
            "10 577\n",
            "11 59\n",
            "12 73\n",
            "13 107\n",
            "14 53\n",
            "15 91\n",
            "16 893\n",
            "17 810\n",
            "18 170\n",
            "19 53\n",
            "20 68\n",
            "21 9\n",
            "22 1\n",
            "23 92\n",
            "24 9\n",
            "25 8\n",
            "26 9\n",
            "27 308\n",
            "28 447\n",
            "29 392\n",
            "30 107\n",
            "31 42\n",
            "32 4\n",
            "33 45\n",
            "34 141\n",
            "35 110\n",
            "36 3\n",
            "37 758\n",
            "38 9\n",
            "39 9\n",
            "40 388\n",
            "41 220\n",
            "42 644\n",
            "43 649\n",
            "44 499\n",
            "45 2\n",
            "46 937\n",
            "47 169\n",
            "48 286\n",
            "49 2\n"
          ]
        }
      ]
    },
    {
      "cell_type": "markdown",
      "source": [
        "aunque en forma más sencilla podemos usar `unique` de `Pandas`"
      ],
      "metadata": {
        "id": "J586nCQ3lgVW"
      }
    },
    {
      "cell_type": "code",
      "source": [
        "# summarize the number of unique values for each column using nunique\n",
        "from pandas import read_csv\n",
        "# load the dataset\n",
        "df = read_csv(\"https://github.com/gustavovazquez/datasets/raw/main/oil-spill.csv\", header=None)\n",
        "# summarize the number of unique values in each column\n",
        "print(df.nunique())\n"
      ],
      "metadata": {
        "colab": {
          "base_uri": "https://localhost:8080/"
        },
        "id": "MVJE21LUllvo",
        "outputId": "03775a1d-8894-407e-ee32-1023375008ad"
      },
      "execution_count": null,
      "outputs": [
        {
          "output_type": "stream",
          "name": "stdout",
          "text": [
            "0     238\n",
            "1     297\n",
            "2     927\n",
            "3     933\n",
            "4     179\n",
            "5     375\n",
            "6     820\n",
            "7     618\n",
            "8     561\n",
            "9      57\n",
            "10    577\n",
            "11     59\n",
            "12     73\n",
            "13    107\n",
            "14     53\n",
            "15     91\n",
            "16    893\n",
            "17    810\n",
            "18    170\n",
            "19     53\n",
            "20     68\n",
            "21      9\n",
            "22      1\n",
            "23     92\n",
            "24      9\n",
            "25      8\n",
            "26      9\n",
            "27    308\n",
            "28    447\n",
            "29    392\n",
            "30    107\n",
            "31     42\n",
            "32      4\n",
            "33     45\n",
            "34    141\n",
            "35    110\n",
            "36      3\n",
            "37    758\n",
            "38      9\n",
            "39      9\n",
            "40    388\n",
            "41    220\n",
            "42    644\n",
            "43    649\n",
            "44    499\n",
            "45      2\n",
            "46    937\n",
            "47    169\n",
            "48    286\n",
            "49      2\n",
            "dtype: int64\n"
          ]
        }
      ]
    },
    {
      "cell_type": "markdown",
      "source": [
        "## Borrando columnas con valores únicos\n",
        "\n"
      ],
      "metadata": {
        "id": "PuCi4zCElusu"
      }
    },
    {
      "cell_type": "code",
      "source": [
        "# delete columns with a single unique value\n",
        "from pandas import read_csv\n",
        "# load the dataset\n",
        "df = read_csv(\"https://github.com/gustavovazquez/datasets/raw/main/oil-spill.csv\", header=None)\n",
        "print(df.shape)\n",
        "# get number of unique values for each column\n",
        "counts = df.nunique()\n",
        "#print(counts)\n",
        "# record columns to delete\n",
        "to_del = [i for i,v in enumerate(counts) if v == 1]\n",
        "print(to_del)\n",
        "# drop useless columns\n",
        "df.drop(to_del, axis=1, inplace=True)\n",
        "print(df.shape)"
      ],
      "metadata": {
        "colab": {
          "base_uri": "https://localhost:8080/"
        },
        "id": "ST0bQqUzl17G",
        "outputId": "f68feee8-e662-420c-a26e-0ee53ab432e5"
      },
      "execution_count": null,
      "outputs": [
        {
          "output_type": "stream",
          "name": "stdout",
          "text": [
            "(937, 50)\n",
            "[22]\n",
            "(937, 49)\n"
          ]
        }
      ]
    },
    {
      "cell_type": "markdown",
      "source": [
        "## Trratamiento de columnas con baja varianza\n",
        "En ocasiones la poca varianza de un atributo también puede generar problemas al momento de modelar.\n",
        "La clase `VarianceThreshold` de  `scikit-learn` soporta esto como un tipo de feature selection.Se puede especificar el umbral como argumento, que por defecto es 0.0 para eliminar columnas con un solo valor. Luego se puede ajustar y aplicar a un conjunto de datos llamando al método `fit_transform()` para crear una versión transformada del conjunto de datos donde las columnas que tienen una variación inferior al umbral se han eliminado automáticamente."
      ],
      "metadata": {
        "id": "b4Yg_AeSmVSS"
      }
    },
    {
      "cell_type": "code",
      "source": [
        "# example of applying the variance threshold for feature selection\n",
        "from pandas import read_csv\n",
        "from sklearn.feature_selection import VarianceThreshold\n",
        "# load the dataset\n",
        "df = read_csv(\"https://github.com/gustavovazquez/datasets/raw/main/oil-spill.csv\", header=None)\n",
        "# split data into inputs and outputs\n",
        "data = df.values\n",
        "X = data[:, :-1]\n",
        "y = data[:, -1]\n",
        "print(X.shape, y.shape)\n",
        "# define the transform\n",
        "transform = VarianceThreshold()\n",
        "# transform the input data\n",
        "X_sel = transform.fit_transform(X)\n",
        "print(X_sel.shape)\n"
      ],
      "metadata": {
        "colab": {
          "base_uri": "https://localhost:8080/"
        },
        "id": "oS78wORCnQL-",
        "outputId": "6c711572-70da-4695-a195-2b280cd0f5e5"
      },
      "execution_count": null,
      "outputs": [
        {
          "output_type": "stream",
          "name": "stdout",
          "text": [
            "(937, 49) (937,)\n",
            "(937, 48)\n"
          ]
        }
      ]
    },
    {
      "cell_type": "markdown",
      "source": [
        "En el código anterior hemos usado el valor default y por lo tanto se eliminan columnas con valores únicos. Podemos también explorar cómo funciona para distintos valores de umbral:"
      ],
      "metadata": {
        "id": "-mfDKk9snfAE"
      }
    },
    {
      "cell_type": "code",
      "source": [
        "# explore the effect of the variance thresholds on the number of selected features\n",
        "from numpy import arange\n",
        "from pandas import read_csv\n",
        "from sklearn.feature_selection import VarianceThreshold\n",
        "from matplotlib import pyplot\n",
        "# load the dataset\n",
        "df = read_csv(\"https://github.com/gustavovazquez/datasets/raw/main/oil-spill.csv\", header=None)\n",
        "# split data into inputs and outputs\n",
        "data = df.values\n",
        "X = data[:, :-1]\n",
        "y = data[:, -1]\n",
        "print(X.shape, y.shape)\n",
        "# define thresholds to check\n",
        "thresholds = arange(0.0, 0.55, 0.05)\n",
        "# apply transform with each threshold\n",
        "results = list()\n",
        "for t in thresholds:\n",
        "    # define the transform\n",
        "    transform = VarianceThreshold(threshold=t)\n",
        "    # transform the input data\n",
        "    X_sel = transform.fit_transform(X)\n",
        "    # determine the number of input features\n",
        "    n_features = X_sel.shape[1]\n",
        "    print('>Threshold=%.2f, Features=%d' % (t, n_features))\n",
        "    # store the result\n",
        "    results.append(n_features)\n",
        "# plot the threshold vs the number of selected features\n",
        "pyplot.plot(thresholds, results)\n",
        "pyplot.show()\n"
      ],
      "metadata": {
        "colab": {
          "base_uri": "https://localhost:8080/",
          "height": 638
        },
        "id": "NN0hLbs0nqdw",
        "outputId": "ff07b59f-cc6f-4f92-8f17-1b0adad8a0bd"
      },
      "execution_count": null,
      "outputs": [
        {
          "output_type": "stream",
          "name": "stdout",
          "text": [
            "(937, 49) (937,)\n",
            ">Threshold=0.00, Features=48\n",
            ">Threshold=0.05, Features=37\n",
            ">Threshold=0.10, Features=36\n",
            ">Threshold=0.15, Features=35\n",
            ">Threshold=0.20, Features=35\n",
            ">Threshold=0.25, Features=35\n",
            ">Threshold=0.30, Features=35\n",
            ">Threshold=0.35, Features=35\n",
            ">Threshold=0.40, Features=35\n",
            ">Threshold=0.45, Features=33\n",
            ">Threshold=0.50, Features=31\n"
          ]
        },
        {
          "output_type": "display_data",
          "data": {
            "text/plain": [
              "<Figure size 640x480 with 1 Axes>"
            ],
            "image/png": "[encoded data removed]"
          },
          "metadata": {}
        }
      ]
    },
    {
      "cell_type": "markdown",
      "source": [
        "## Identificando filas duplicadas\n",
        "Las muestras duplicadas en un dataset pueden perjudicar el modelado. Por ejemplo considere la situación cuando dos o más muestras están duplicadas y presentes tanto en los conjuntos de entrenamiento y test. Esto viola el principio de que los datos a predecir no pueden haber sido vistos en la etapa de entrenamiento, sobreestimado así el modelo.\n",
        "\n",
        "El método `duplicate` de `Pandas` informará si una fila determinada está duplicada o no. Todas las filas están marcadas como Falso para indicar que no es un duplicado o como Verdadero para indicar que lo es. Si hay duplicados, la primera aparición de la fila se marca como Falso (de forma predeterminada). El siguiente ejemplo busca duplicados."
      ],
      "metadata": {
        "id": "Co5chqOAn-uo"
      }
    },
    {
      "cell_type": "code",
      "source": [
        "# locate rows of duplicate data\n",
        "import pandas as pd\n",
        "from sklearn.datasets import load_iris\n",
        "# load the dataset\n",
        "iris = load_iris()\n",
        "df = pd.DataFrame(data=iris.data, columns=iris.feature_names)\n",
        "# calculate duplicates\n",
        "dups = df.duplicated()\n",
        "# report if there are any duplicates\n",
        "print(dups.any())\n",
        "# list all duplicate rows\n",
        "print(df[dups])\n"
      ],
      "metadata": {
        "colab": {
          "base_uri": "https://localhost:8080/"
        },
        "id": "xpjmnadinqj1",
        "outputId": "de154a72-6e7a-443a-bbdd-4aeeafd3904a"
      },
      "execution_count": null,
      "outputs": [
        {
          "output_type": "stream",
          "name": "stdout",
          "text": [
            "True\n",
            "     sepal length (cm)  sepal width (cm)  petal length (cm)  petal width (cm)\n",
            "142                5.8               2.7                5.1               1.9\n"
          ]
        }
      ]
    },
    {
      "cell_type": "markdown",
      "source": [
        "Para borrar las filas duplicadas utilizaremos el método `row_duplicates`."
      ],
      "metadata": {
        "id": "bFA1eSmDpiJr"
      }
    },
    {
      "cell_type": "code",
      "source": [
        "# delete rows of duplicate data from the dataset\n",
        "import pandas as pd\n",
        "from sklearn.datasets import load_iris\n",
        "# load the dataset\n",
        "iris = load_iris()\n",
        "df = pd.DataFrame(data=iris.data, columns=iris.feature_names)\n",
        "print(df.shape)\n",
        "# delete duplicate rows\n",
        "df.drop_duplicates(inplace=True)\n",
        "print(df.shape)\n"
      ],
      "metadata": {
        "colab": {
          "base_uri": "https://localhost:8080/"
        },
        "id": "Ogcolh3zpmZ1",
        "outputId": "ba0c249f-589d-46fa-ba1f-fd44437536d2"
      },
      "execution_count": null,
      "outputs": [
        {
          "output_type": "stream",
          "name": "stdout",
          "text": [
            "(150, 4)\n",
            "(149, 4)\n"
          ]
        }
      ]
    },
    {
      "cell_type": "markdown",
      "source": [
        "# Outliers\n",
        "\n",
        "Un outlier es una observación en el conjunto de datos que escapa a la tendencia de los mismos. En algún sentido es una muestra atípica, distinta. Estos valores aparecen por diferentes causas:\n",
        "\n",
        "-\terrores de medición o en el ingreso de los datos\n",
        "-\tdatos corruptos\n",
        "-\taparición de verdaderos valores atípicos\n",
        "\n",
        "No existe una forma precisa para definir e identificar outliers en general. Es el experto del dominio quien debe interpretar las observaciones crudas que contiene el conjunto de datos y decidir cuando un valor es atípico o no. Sin embargo existen métodos estadísticos para facilitar la identificación de posibles candidatos.\n",
        "\n",
        "## Caso de estudio\n",
        "Definimos un conjunto de formado por 10000 números aleatorios provenientes de una distribución gaussiana con media 50 y desvío estándar de 5. Naturalmente los valores generados por esta distribución contendrá outliers por efecto de la distribución en sí (valores en los extremos de la distribución deberían ser identificados como atípicos).\n"
      ],
      "metadata": {
        "id": "m4kVJ3IZpreC"
      }
    },
    {
      "cell_type": "code",
      "source": [
        "# generate gaussian data\n",
        "from numpy.random import seed\n",
        "from numpy.random import randn\n",
        "from numpy import mean\n",
        "from numpy import std\n",
        "# seed the random number generator\n",
        "seed(1)\n",
        "# generate univariate observations\n",
        "data = 5 * randn(10000) + 50\n",
        "# summarize\n",
        "print('mean=%.3f stdv=%.3f' % (mean(data), std(data)))\n"
      ],
      "metadata": {
        "id": "27xS4qdXkvhN",
        "colab": {
          "base_uri": "https://localhost:8080/"
        },
        "outputId": "8dc9e36e-ecc6-4514-836c-b97219f0686d"
      },
      "execution_count": null,
      "outputs": [
        {
          "output_type": "stream",
          "name": "stdout",
          "text": [
            "mean=50.049 stdv=4.994\n"
          ]
        }
      ]
    },
    {
      "cell_type": "markdown",
      "source": [
        "## Método basado en el desvío estándar\n",
        "A partir de una distribución de Gauss o tipo gaussiana podemos usar el desvío estándar de una población como punto de corte para identificar outliers. La distribución de Gauss tiene la propiedad de que a partir de la media y en un entorno de un desvío estándar se ubicará el 68% de los Datos. Por ejemplo si la media es 50 y el desvío estándar es de 5 como en el ejemplo anterior, aproximadamente un 68% de los Datos caerán en el intervalo de 45 y 55. Podemos expandir el rango de cobertura de la siguiente manera:\n",
        "-\t1 desvío estándar de la media: 68%\n",
        "-\t2 desvíos estándar de la media: 95%\n",
        "-\t3 desvíos estándar de la media: 99,7%\n",
        "Los valores que caen por afuera de 3 desvíos estándar son parte de la distribución, pero son elementos raros que ocurren aproximadamente en una de 370 muestras. Tres desvíos estándar de la media es un punto de corte común en la práctica de identificar outliers en distribuciones de tipo gaussiana.\n"
      ],
      "metadata": {
        "id": "qgQT48dSszcA"
      }
    },
    {
      "cell_type": "code",
      "source": [
        "# identify outliers with standard deviation\n",
        "from numpy.random import seed\n",
        "from numpy.random import randn\n",
        "from numpy import mean\n",
        "from numpy import std\n",
        "# seed the random number generator\n",
        "seed(1)\n",
        "# generate univariate observations\n",
        "data = 5 * randn(10000) + 50\n",
        "# calculate summary statistics\n",
        "data_mean, data_std = mean(data), std(data)\n",
        "# define outliers\n",
        "cut_off = data_std * 3\n",
        "lower, upper = data_mean - cut_off, data_mean + cut_off\n",
        "# identify outliers\n",
        "outliers = [x for x in data if x < lower or x > upper]\n",
        "print('Identified outliers: %d' % len(outliers))\n",
        "# remove outliers\n",
        "outliers_removed = [x for x in data if x >= lower and x <= upper]\n",
        "print('Non-outlier observations: %d' % len(outliers_removed))\n"
      ],
      "metadata": {
        "colab": {
          "base_uri": "https://localhost:8080/"
        },
        "id": "cbbJijimstSm",
        "outputId": "818fdf9a-e886-433b-eefa-8822bd8318a7"
      },
      "execution_count": null,
      "outputs": [
        {
          "output_type": "stream",
          "name": "stdout",
          "text": [
            "Identified outliers: 29\n",
            "Non-outlier observations: 9971\n"
          ]
        }
      ]
    },
    {
      "cell_type": "markdown",
      "source": [
        "## Método del rango intercuartil (Interquartile Range Method)\n",
        "No siempre los datos son normales como para ser tratados mediante una distribución gaussiana. Un buen estadístico para sumarizar una muestra de Datos de una distribución no gaussiana es el rango intercuartíl (IQR). El IQR se calcula como la diferencia entre los percentiles 75 y 25 de los datos. Recordar que los percentiles pueden calcularse ordenando las observaciones y seleccionando los valores en los índices específicos; el percentil 50 ese valor medio, o el promedio de los 2 en el medio en caso de que la cantidad de muestras sea impar.\n",
        "el IQR puede usarse para identificar valores definiendo límites en los valores de la muestra que están a un factor $k$ del IQR por debajo del percentil 25 o por encima del 75. Un valor tradicional es $k=1.5$. Un factor $k=3$ se usa para identificar valores extremadamente raros.\n"
      ],
      "metadata": {
        "id": "Vv5Exmvtu87K"
      }
    },
    {
      "cell_type": "code",
      "source": [
        "# identify outliers with interquartile range\n",
        "from numpy.random import seed\n",
        "from numpy.random import randn\n",
        "from numpy import percentile\n",
        "# seed the random number generator\n",
        "seed(1)\n",
        "# generate univariate observations\n",
        "data = 5 * randn(10000) + 50\n",
        "# calculate interquartile range\n",
        "q25, q75 = percentile(data, 25), percentile(data, 75)\n",
        "iqr = q75 - q25\n",
        "print('Percentiles: 25th=%.3f, 75th=%.3f, IQR=%.3f' % (q25, q75, iqr))\n",
        "# calculate the outlier cutoff\n",
        "cut_off = iqr * 1.5\n",
        "lower, upper = q25 - cut_off, q75 + cut_off\n",
        "# identify outliers\n",
        "outliers = [x for x in data if x < lower or x > upper]\n",
        "print('Identified outliers: %d' % len(outliers))\n",
        "# remove outliers\n",
        "outliers_removed = [x for x in data if x >= lower and x <= upper]\n",
        "print('Non-outlier observations: %d' % len(outliers_removed))\n"
      ],
      "metadata": {
        "colab": {
          "base_uri": "https://localhost:8080/"
        },
        "id": "yNPx3fo2vKL7",
        "outputId": "77bac00e-1799-4233-8adc-3cff2eb88059"
      },
      "execution_count": null,
      "outputs": [
        {
          "output_type": "stream",
          "name": "stdout",
          "text": [
            "Percentiles: 25th=46.685, 75th=53.359, IQR=6.674\n",
            "Identified outliers: 81\n",
            "Non-outlier observations: 9919\n"
          ]
        }
      ]
    },
    {
      "cell_type": "markdown",
      "source": [
        "# Identificar y remover valores faltantes"
      ],
      "metadata": {
        "id": "RF6zYvdz9q33"
      }
    },
    {
      "cell_type": "code",
      "source": [
        "# load the dataset and review rows\n",
        "from pandas import read_csv\n",
        "# load the dataset\n",
        "dataset = read_csv('https://raw.githubusercontent.com/gustavovazquez/datasets/main/pima-indians-diabetes.csv')\n",
        "# summarize the first 20 rows of data\n",
        "print(dataset.describe())\n"
      ],
      "metadata": {
        "colab": {
          "base_uri": "https://localhost:8080/"
        },
        "id": "yUKjNd71rsFD",
        "outputId": "0770ded2-74cc-4c8f-8c79-ae77b052cba2"
      },
      "execution_count": null,
      "outputs": [
        {
          "output_type": "stream",
          "name": "stdout",
          "text": [
            "       Pregnancies     Glucose  BloodPressure  SkinThickness     Insulin  \\\n",
            "count   768.000000  768.000000     768.000000     768.000000  768.000000   \n",
            "mean      3.845052  120.894531      69.105469      20.536458   79.799479   \n",
            "std       3.369578   31.972618      19.355807      15.952218  115.244002   \n",
            "min       0.000000    0.000000       0.000000       0.000000    0.000000   \n",
            "25%       1.000000   99.000000      62.000000       0.000000    0.000000   \n",
            "50%       3.000000  117.000000      72.000000      23.000000   30.500000   \n",
            "75%       6.000000  140.250000      80.000000      32.000000  127.250000   \n",
            "max      17.000000  199.000000     122.000000      99.000000  846.000000   \n",
            "\n",
            "              BMI  DiabetesPedigreeFunction         Age     Outcome  \n",
            "count  768.000000                768.000000  768.000000  768.000000  \n",
            "mean    31.992578                  0.471876   33.240885    0.348958  \n",
            "std      7.884160                  0.331329   11.760232    0.476951  \n",
            "min      0.000000                  0.078000   21.000000    0.000000  \n",
            "25%     27.300000                  0.243750   24.000000    0.000000  \n",
            "50%     32.000000                  0.372500   29.000000    0.000000  \n",
            "75%     36.600000                  0.626250   41.000000    1.000000  \n",
            "max     67.100000                  2.420000   81.000000    1.000000  \n"
          ]
        }
      ]
    },
    {
      "cell_type": "markdown",
      "source": [
        "Claramente se ven valores 0 en columnas que evidentemente no deberían tenerlos.\n",
        "Típicamente en un DataFrame los missing values son representados con la constante `NaN` y entonces procederemos a su reemplazo."
      ],
      "metadata": {
        "id": "NDqp7EHY8rUQ"
      }
    },
    {
      "cell_type": "code",
      "source": [
        "# example of marking missing values with nan values\n",
        "from numpy import nan\n",
        "from pandas import read_csv\n",
        "# load the dataset\n",
        "dataset = read_csv('https://raw.githubusercontent.com/gustavovazquez/datasets/main/pima-indians-diabetes.csv')\n",
        "# replace '0' values with 'nan'\n",
        "dataset['Glucose'].replace(to_replace = 0, value = nan, inplace=True)\n",
        "# count the number of nan values in each column\n",
        "print(dataset.isnull().sum())"
      ],
      "metadata": {
        "colab": {
          "base_uri": "https://localhost:8080/"
        },
        "id": "-HAIgHzt-mXk",
        "outputId": "b9c3817c-d1ff-4fde-8ab0-e620d2591dde"
      },
      "execution_count": null,
      "outputs": [
        {
          "output_type": "stream",
          "name": "stdout",
          "text": [
            "Pregnancies                 0\n",
            "Glucose                     5\n",
            "BloodPressure               0\n",
            "SkinThickness               0\n",
            "Insulin                     0\n",
            "BMI                         0\n",
            "DiabetesPedigreeFunction    0\n",
            "Age                         0\n",
            "Outcome                     0\n",
            "dtype: int64\n"
          ]
        },
        {
          "output_type": "stream",
          "name": "stderr",
          "text": [
            "<ipython-input-17-661ac0e32ab3>:7: FutureWarning: A value is trying to be set on a copy of a DataFrame or Series through chained assignment using an inplace method.\n",
            "The behavior will change in pandas 3.0. This inplace method will never work because the intermediate object on which we are setting values always behaves as a copy.\n",
            "\n",
            "For example, when doing 'df[col].method(value, inplace=True)', try using 'df.method({col: value}, inplace=True)' or df[col] = df[col].method(value) instead, to perform the operation inplace on the original object.\n",
            "\n",
            "\n",
            "  dataset['Glucose'].replace(to_replace = 0, value = nan, inplace=True)\n"
          ]
        }
      ]
    },
    {
      "cell_type": "markdown",
      "source": [
        "A los efectos de verificar:"
      ],
      "metadata": {
        "id": "uxydxsfR-4YB"
      }
    },
    {
      "cell_type": "code",
      "source": [
        "print(dataset['Glucose'].describe())"
      ],
      "metadata": {
        "colab": {
          "base_uri": "https://localhost:8080/"
        },
        "id": "S-i12sL_lJLW",
        "outputId": "f6e653bf-a7e4-4f1b-b764-f44a6ca204a4"
      },
      "execution_count": null,
      "outputs": [
        {
          "output_type": "stream",
          "name": "stdout",
          "text": [
            "count    763.000000\n",
            "mean     121.686763\n",
            "std       30.535641\n",
            "min       44.000000\n",
            "25%       99.000000\n",
            "50%      117.000000\n",
            "75%      141.000000\n",
            "max      199.000000\n",
            "Name: Glucose, dtype: float64\n"
          ]
        }
      ]
    },
    {
      "cell_type": "markdown",
      "source": [
        "# Imputación de valores\n",
        "Un dataset puede tener valores faltantes (o valores anómalos). No es conveniente borrar muestras del dataset ya que eso reduce la cantidad de datos disponibles. Una técnica aceptada es la imputación de los valores faltantes utilizando alguna forma estadística. Algunos estadísticos que pueden utilizarse son:\n",
        "- la media, mediana o moda de una columna\n",
        "- un valor constante\n",
        "\n",
        "\n",
        "## Ejemplo - Horse Colic Dataset\n",
        "En este dataset los valores faltantes son indicados con el símbolo '?'\n",
        "\n"
      ],
      "metadata": {
        "id": "G1-gyoELAr8N"
      }
    },
    {
      "cell_type": "code",
      "source": [
        "# load dataset\n",
        "dataframe = read_csv('https://raw.githubusercontent.com/gustavovazquez/datasets/main/horse-colic.csv', header=None, na_values='?')\n",
        "# summarize the first few rows\n",
        "print(dataframe.head())"
      ],
      "metadata": {
        "colab": {
          "base_uri": "https://localhost:8080/"
        },
        "id": "g2hdc4okPmwJ",
        "outputId": "3b65f01a-a18c-4333-8d95-681383d3707b"
      },
      "execution_count": null,
      "outputs": [
        {
          "output_type": "stream",
          "name": "stdout",
          "text": [
            "    0   1        2     3      4     5    6    7    8    9   ...    18    19  \\\n",
            "0  2.0   1   530101  38.5   66.0  28.0  3.0  3.0  NaN  2.0  ...  45.0   8.4   \n",
            "1  1.0   1   534817  39.2   88.0  20.0  NaN  NaN  4.0  1.0  ...  50.0  85.0   \n",
            "2  2.0   1   530334  38.3   40.0  24.0  1.0  1.0  3.0  1.0  ...  33.0   6.7   \n",
            "3  1.0   9  5290409  39.1  164.0  84.0  4.0  1.0  6.0  2.0  ...  48.0   7.2   \n",
            "4  2.0   1   530255  37.3  104.0  35.0  NaN  NaN  6.0  2.0  ...  74.0   7.4   \n",
            "\n",
            "    20   21   22  23     24  25  26  27  \n",
            "0  NaN  NaN  2.0   2  11300   0   0   2  \n",
            "1  2.0  2.0  3.0   2   2208   0   0   2  \n",
            "2  NaN  NaN  1.0   2      0   0   0   1  \n",
            "3  3.0  5.3  2.0   1   2208   0   0   1  \n",
            "4  NaN  NaN  2.0   2   4300   0   0   2  \n",
            "\n",
            "[5 rows x 28 columns]\n"
          ]
        }
      ]
    },
    {
      "cell_type": "markdown",
      "source": [
        "Sumarizamos la cantidad de missing values para cada columna"
      ],
      "metadata": {
        "id": "Ucg716_pPyy4"
      }
    },
    {
      "cell_type": "code",
      "source": [
        "# summarize the number of rows with missing values for each column\n",
        "for i in range(dataframe.shape[1]):\n",
        "  # count number of rows with missing values\n",
        "  n_miss = dataframe[[i]].isnull().sum()\n",
        "  perc = n_miss / dataframe.shape[0] * 100\n",
        "  print('> %d, Missing: %d (%.1f%%)' % (i, n_miss, perc))"
      ],
      "metadata": {
        "colab": {
          "base_uri": "https://localhost:8080/"
        },
        "id": "s57IZIBEQIFf",
        "outputId": "4388ed84-aa0b-4350-c428-3258a2c875ec"
      },
      "execution_count": null,
      "outputs": [
        {
          "output_type": "stream",
          "name": "stdout",
          "text": [
            "> 0, Missing: 1 (0.3%)\n",
            "> 1, Missing: 0 (0.0%)\n",
            "> 2, Missing: 0 (0.0%)\n",
            "> 3, Missing: 60 (20.0%)\n",
            "> 4, Missing: 24 (8.0%)\n",
            "> 5, Missing: 58 (19.3%)\n",
            "> 6, Missing: 56 (18.7%)\n",
            "> 7, Missing: 69 (23.0%)\n",
            "> 8, Missing: 47 (15.7%)\n",
            "> 9, Missing: 32 (10.7%)\n",
            "> 10, Missing: 55 (18.3%)\n",
            "> 11, Missing: 44 (14.7%)\n",
            "> 12, Missing: 56 (18.7%)\n",
            "> 13, Missing: 104 (34.7%)\n",
            "> 14, Missing: 106 (35.3%)\n",
            "> 15, Missing: 247 (82.3%)\n",
            "> 16, Missing: 102 (34.0%)\n",
            "> 17, Missing: 118 (39.3%)\n",
            "> 18, Missing: 29 (9.7%)\n",
            "> 19, Missing: 33 (11.0%)\n",
            "> 20, Missing: 165 (55.0%)\n",
            "> 21, Missing: 198 (66.0%)\n",
            "> 22, Missing: 1 (0.3%)\n",
            "> 23, Missing: 0 (0.0%)\n",
            "> 24, Missing: 0 (0.0%)\n",
            "> 25, Missing: 0 (0.0%)\n",
            "> 26, Missing: 0 (0.0%)\n",
            "> 27, Missing: 0 (0.0%)\n"
          ]
        },
        {
          "output_type": "stream",
          "name": "stderr",
          "text": [
            "<ipython-input-20-e0c31dc79428>:6: FutureWarning: Calling int on a single element Series is deprecated and will raise a TypeError in the future. Use int(ser.iloc[0]) instead\n",
            "  print('> %d, Missing: %d (%.1f%%)' % (i, n_miss, perc))\n",
            "<ipython-input-20-e0c31dc79428>:6: FutureWarning: Calling float on a single element Series is deprecated and will raise a TypeError in the future. Use float(ser.iloc[0]) instead\n",
            "  print('> %d, Missing: %d (%.1f%%)' % (i, n_miss, perc))\n",
            "<ipython-input-20-e0c31dc79428>:6: FutureWarning: Calling int on a single element Series is deprecated and will raise a TypeError in the future. Use int(ser.iloc[0]) instead\n",
            "  print('> %d, Missing: %d (%.1f%%)' % (i, n_miss, perc))\n",
            "<ipython-input-20-e0c31dc79428>:6: FutureWarning: Calling float on a single element Series is deprecated and will raise a TypeError in the future. Use float(ser.iloc[0]) instead\n",
            "  print('> %d, Missing: %d (%.1f%%)' % (i, n_miss, perc))\n",
            "<ipython-input-20-e0c31dc79428>:6: FutureWarning: Calling int on a single element Series is deprecated and will raise a TypeError in the future. Use int(ser.iloc[0]) instead\n",
            "  print('> %d, Missing: %d (%.1f%%)' % (i, n_miss, perc))\n",
            "<ipython-input-20-e0c31dc79428>:6: FutureWarning: Calling float on a single element Series is deprecated and will raise a TypeError in the future. Use float(ser.iloc[0]) instead\n",
            "  print('> %d, Missing: %d (%.1f%%)' % (i, n_miss, perc))\n",
            "<ipython-input-20-e0c31dc79428>:6: FutureWarning: Calling int on a single element Series is deprecated and will raise a TypeError in the future. Use int(ser.iloc[0]) instead\n",
            "  print('> %d, Missing: %d (%.1f%%)' % (i, n_miss, perc))\n",
            "<ipython-input-20-e0c31dc79428>:6: FutureWarning: Calling float on a single element Series is deprecated and will raise a TypeError in the future. Use float(ser.iloc[0]) instead\n",
            "  print('> %d, Missing: %d (%.1f%%)' % (i, n_miss, perc))\n",
            "<ipython-input-20-e0c31dc79428>:6: FutureWarning: Calling int on a single element Series is deprecated and will raise a TypeError in the future. Use int(ser.iloc[0]) instead\n",
            "  print('> %d, Missing: %d (%.1f%%)' % (i, n_miss, perc))\n",
            "<ipython-input-20-e0c31dc79428>:6: FutureWarning: Calling float on a single element Series is deprecated and will raise a TypeError in the future. Use float(ser.iloc[0]) instead\n",
            "  print('> %d, Missing: %d (%.1f%%)' % (i, n_miss, perc))\n",
            "<ipython-input-20-e0c31dc79428>:6: FutureWarning: Calling int on a single element Series is deprecated and will raise a TypeError in the future. Use int(ser.iloc[0]) instead\n",
            "  print('> %d, Missing: %d (%.1f%%)' % (i, n_miss, perc))\n",
            "<ipython-input-20-e0c31dc79428>:6: FutureWarning: Calling float on a single element Series is deprecated and will raise a TypeError in the future. Use float(ser.iloc[0]) instead\n",
            "  print('> %d, Missing: %d (%.1f%%)' % (i, n_miss, perc))\n",
            "<ipython-input-20-e0c31dc79428>:6: FutureWarning: Calling int on a single element Series is deprecated and will raise a TypeError in the future. Use int(ser.iloc[0]) instead\n",
            "  print('> %d, Missing: %d (%.1f%%)' % (i, n_miss, perc))\n",
            "<ipython-input-20-e0c31dc79428>:6: FutureWarning: Calling float on a single element Series is deprecated and will raise a TypeError in the future. Use float(ser.iloc[0]) instead\n",
            "  print('> %d, Missing: %d (%.1f%%)' % (i, n_miss, perc))\n",
            "<ipython-input-20-e0c31dc79428>:6: FutureWarning: Calling int on a single element Series is deprecated and will raise a TypeError in the future. Use int(ser.iloc[0]) instead\n",
            "  print('> %d, Missing: %d (%.1f%%)' % (i, n_miss, perc))\n",
            "<ipython-input-20-e0c31dc79428>:6: FutureWarning: Calling float on a single element Series is deprecated and will raise a TypeError in the future. Use float(ser.iloc[0]) instead\n",
            "  print('> %d, Missing: %d (%.1f%%)' % (i, n_miss, perc))\n",
            "<ipython-input-20-e0c31dc79428>:6: FutureWarning: Calling int on a single element Series is deprecated and will raise a TypeError in the future. Use int(ser.iloc[0]) instead\n",
            "  print('> %d, Missing: %d (%.1f%%)' % (i, n_miss, perc))\n",
            "<ipython-input-20-e0c31dc79428>:6: FutureWarning: Calling float on a single element Series is deprecated and will raise a TypeError in the future. Use float(ser.iloc[0]) instead\n",
            "  print('> %d, Missing: %d (%.1f%%)' % (i, n_miss, perc))\n",
            "<ipython-input-20-e0c31dc79428>:6: FutureWarning: Calling int on a single element Series is deprecated and will raise a TypeError in the future. Use int(ser.iloc[0]) instead\n",
            "  print('> %d, Missing: %d (%.1f%%)' % (i, n_miss, perc))\n",
            "<ipython-input-20-e0c31dc79428>:6: FutureWarning: Calling float on a single element Series is deprecated and will raise a TypeError in the future. Use float(ser.iloc[0]) instead\n",
            "  print('> %d, Missing: %d (%.1f%%)' % (i, n_miss, perc))\n",
            "<ipython-input-20-e0c31dc79428>:6: FutureWarning: Calling int on a single element Series is deprecated and will raise a TypeError in the future. Use int(ser.iloc[0]) instead\n",
            "  print('> %d, Missing: %d (%.1f%%)' % (i, n_miss, perc))\n",
            "<ipython-input-20-e0c31dc79428>:6: FutureWarning: Calling float on a single element Series is deprecated and will raise a TypeError in the future. Use float(ser.iloc[0]) instead\n",
            "  print('> %d, Missing: %d (%.1f%%)' % (i, n_miss, perc))\n",
            "<ipython-input-20-e0c31dc79428>:6: FutureWarning: Calling int on a single element Series is deprecated and will raise a TypeError in the future. Use int(ser.iloc[0]) instead\n",
            "  print('> %d, Missing: %d (%.1f%%)' % (i, n_miss, perc))\n",
            "<ipython-input-20-e0c31dc79428>:6: FutureWarning: Calling float on a single element Series is deprecated and will raise a TypeError in the future. Use float(ser.iloc[0]) instead\n",
            "  print('> %d, Missing: %d (%.1f%%)' % (i, n_miss, perc))\n",
            "<ipython-input-20-e0c31dc79428>:6: FutureWarning: Calling int on a single element Series is deprecated and will raise a TypeError in the future. Use int(ser.iloc[0]) instead\n",
            "  print('> %d, Missing: %d (%.1f%%)' % (i, n_miss, perc))\n",
            "<ipython-input-20-e0c31dc79428>:6: FutureWarning: Calling float on a single element Series is deprecated and will raise a TypeError in the future. Use float(ser.iloc[0]) instead\n",
            "  print('> %d, Missing: %d (%.1f%%)' % (i, n_miss, perc))\n",
            "<ipython-input-20-e0c31dc79428>:6: FutureWarning: Calling int on a single element Series is deprecated and will raise a TypeError in the future. Use int(ser.iloc[0]) instead\n",
            "  print('> %d, Missing: %d (%.1f%%)' % (i, n_miss, perc))\n",
            "<ipython-input-20-e0c31dc79428>:6: FutureWarning: Calling float on a single element Series is deprecated and will raise a TypeError in the future. Use float(ser.iloc[0]) instead\n",
            "  print('> %d, Missing: %d (%.1f%%)' % (i, n_miss, perc))\n",
            "<ipython-input-20-e0c31dc79428>:6: FutureWarning: Calling int on a single element Series is deprecated and will raise a TypeError in the future. Use int(ser.iloc[0]) instead\n",
            "  print('> %d, Missing: %d (%.1f%%)' % (i, n_miss, perc))\n",
            "<ipython-input-20-e0c31dc79428>:6: FutureWarning: Calling float on a single element Series is deprecated and will raise a TypeError in the future. Use float(ser.iloc[0]) instead\n",
            "  print('> %d, Missing: %d (%.1f%%)' % (i, n_miss, perc))\n",
            "<ipython-input-20-e0c31dc79428>:6: FutureWarning: Calling int on a single element Series is deprecated and will raise a TypeError in the future. Use int(ser.iloc[0]) instead\n",
            "  print('> %d, Missing: %d (%.1f%%)' % (i, n_miss, perc))\n",
            "<ipython-input-20-e0c31dc79428>:6: FutureWarning: Calling float on a single element Series is deprecated and will raise a TypeError in the future. Use float(ser.iloc[0]) instead\n",
            "  print('> %d, Missing: %d (%.1f%%)' % (i, n_miss, perc))\n",
            "<ipython-input-20-e0c31dc79428>:6: FutureWarning: Calling int on a single element Series is deprecated and will raise a TypeError in the future. Use int(ser.iloc[0]) instead\n",
            "  print('> %d, Missing: %d (%.1f%%)' % (i, n_miss, perc))\n",
            "<ipython-input-20-e0c31dc79428>:6: FutureWarning: Calling float on a single element Series is deprecated and will raise a TypeError in the future. Use float(ser.iloc[0]) instead\n",
            "  print('> %d, Missing: %d (%.1f%%)' % (i, n_miss, perc))\n",
            "<ipython-input-20-e0c31dc79428>:6: FutureWarning: Calling int on a single element Series is deprecated and will raise a TypeError in the future. Use int(ser.iloc[0]) instead\n",
            "  print('> %d, Missing: %d (%.1f%%)' % (i, n_miss, perc))\n",
            "<ipython-input-20-e0c31dc79428>:6: FutureWarning: Calling float on a single element Series is deprecated and will raise a TypeError in the future. Use float(ser.iloc[0]) instead\n",
            "  print('> %d, Missing: %d (%.1f%%)' % (i, n_miss, perc))\n",
            "<ipython-input-20-e0c31dc79428>:6: FutureWarning: Calling int on a single element Series is deprecated and will raise a TypeError in the future. Use int(ser.iloc[0]) instead\n",
            "  print('> %d, Missing: %d (%.1f%%)' % (i, n_miss, perc))\n",
            "<ipython-input-20-e0c31dc79428>:6: FutureWarning: Calling float on a single element Series is deprecated and will raise a TypeError in the future. Use float(ser.iloc[0]) instead\n",
            "  print('> %d, Missing: %d (%.1f%%)' % (i, n_miss, perc))\n",
            "<ipython-input-20-e0c31dc79428>:6: FutureWarning: Calling int on a single element Series is deprecated and will raise a TypeError in the future. Use int(ser.iloc[0]) instead\n",
            "  print('> %d, Missing: %d (%.1f%%)' % (i, n_miss, perc))\n",
            "<ipython-input-20-e0c31dc79428>:6: FutureWarning: Calling float on a single element Series is deprecated and will raise a TypeError in the future. Use float(ser.iloc[0]) instead\n",
            "  print('> %d, Missing: %d (%.1f%%)' % (i, n_miss, perc))\n",
            "<ipython-input-20-e0c31dc79428>:6: FutureWarning: Calling int on a single element Series is deprecated and will raise a TypeError in the future. Use int(ser.iloc[0]) instead\n",
            "  print('> %d, Missing: %d (%.1f%%)' % (i, n_miss, perc))\n",
            "<ipython-input-20-e0c31dc79428>:6: FutureWarning: Calling float on a single element Series is deprecated and will raise a TypeError in the future. Use float(ser.iloc[0]) instead\n",
            "  print('> %d, Missing: %d (%.1f%%)' % (i, n_miss, perc))\n",
            "<ipython-input-20-e0c31dc79428>:6: FutureWarning: Calling int on a single element Series is deprecated and will raise a TypeError in the future. Use int(ser.iloc[0]) instead\n",
            "  print('> %d, Missing: %d (%.1f%%)' % (i, n_miss, perc))\n",
            "<ipython-input-20-e0c31dc79428>:6: FutureWarning: Calling float on a single element Series is deprecated and will raise a TypeError in the future. Use float(ser.iloc[0]) instead\n",
            "  print('> %d, Missing: %d (%.1f%%)' % (i, n_miss, perc))\n",
            "<ipython-input-20-e0c31dc79428>:6: FutureWarning: Calling int on a single element Series is deprecated and will raise a TypeError in the future. Use int(ser.iloc[0]) instead\n",
            "  print('> %d, Missing: %d (%.1f%%)' % (i, n_miss, perc))\n",
            "<ipython-input-20-e0c31dc79428>:6: FutureWarning: Calling float on a single element Series is deprecated and will raise a TypeError in the future. Use float(ser.iloc[0]) instead\n",
            "  print('> %d, Missing: %d (%.1f%%)' % (i, n_miss, perc))\n",
            "<ipython-input-20-e0c31dc79428>:6: FutureWarning: Calling int on a single element Series is deprecated and will raise a TypeError in the future. Use int(ser.iloc[0]) instead\n",
            "  print('> %d, Missing: %d (%.1f%%)' % (i, n_miss, perc))\n",
            "<ipython-input-20-e0c31dc79428>:6: FutureWarning: Calling float on a single element Series is deprecated and will raise a TypeError in the future. Use float(ser.iloc[0]) instead\n",
            "  print('> %d, Missing: %d (%.1f%%)' % (i, n_miss, perc))\n",
            "<ipython-input-20-e0c31dc79428>:6: FutureWarning: Calling int on a single element Series is deprecated and will raise a TypeError in the future. Use int(ser.iloc[0]) instead\n",
            "  print('> %d, Missing: %d (%.1f%%)' % (i, n_miss, perc))\n",
            "<ipython-input-20-e0c31dc79428>:6: FutureWarning: Calling float on a single element Series is deprecated and will raise a TypeError in the future. Use float(ser.iloc[0]) instead\n",
            "  print('> %d, Missing: %d (%.1f%%)' % (i, n_miss, perc))\n",
            "<ipython-input-20-e0c31dc79428>:6: FutureWarning: Calling int on a single element Series is deprecated and will raise a TypeError in the future. Use int(ser.iloc[0]) instead\n",
            "  print('> %d, Missing: %d (%.1f%%)' % (i, n_miss, perc))\n",
            "<ipython-input-20-e0c31dc79428>:6: FutureWarning: Calling float on a single element Series is deprecated and will raise a TypeError in the future. Use float(ser.iloc[0]) instead\n",
            "  print('> %d, Missing: %d (%.1f%%)' % (i, n_miss, perc))\n",
            "<ipython-input-20-e0c31dc79428>:6: FutureWarning: Calling int on a single element Series is deprecated and will raise a TypeError in the future. Use int(ser.iloc[0]) instead\n",
            "  print('> %d, Missing: %d (%.1f%%)' % (i, n_miss, perc))\n",
            "<ipython-input-20-e0c31dc79428>:6: FutureWarning: Calling float on a single element Series is deprecated and will raise a TypeError in the future. Use float(ser.iloc[0]) instead\n",
            "  print('> %d, Missing: %d (%.1f%%)' % (i, n_miss, perc))\n",
            "<ipython-input-20-e0c31dc79428>:6: FutureWarning: Calling int on a single element Series is deprecated and will raise a TypeError in the future. Use int(ser.iloc[0]) instead\n",
            "  print('> %d, Missing: %d (%.1f%%)' % (i, n_miss, perc))\n",
            "<ipython-input-20-e0c31dc79428>:6: FutureWarning: Calling float on a single element Series is deprecated and will raise a TypeError in the future. Use float(ser.iloc[0]) instead\n",
            "  print('> %d, Missing: %d (%.1f%%)' % (i, n_miss, perc))\n"
          ]
        }
      ]
    },
    {
      "cell_type": "markdown",
      "source": [
        "# Imputación estadística con SimpleImputer\n",
        "\n",
        "SimpleImputer es una transformación que permite aplicar un estadístico para imputar valores"
      ],
      "metadata": {
        "id": "mmHk5sl4QhEO"
      }
    },
    {
      "cell_type": "code",
      "source": [
        "# statistical imputation transform for the horse colic dataset\n",
        "from numpy import isnan\n",
        "from pandas import read_csv\n",
        "from sklearn.impute import SimpleImputer\n",
        "# load dataset\n",
        "dataframe = read_csv('https://raw.githubusercontent.com/gustavovazquez/datasets/main/horse-colic.csv', header=None, na_values='?')\n",
        "# split into input and output elements\n",
        "data = dataframe.values\n",
        "ix = [i for i in range(data.shape[1]) if i != 23]\n",
        "X, y = data[:, ix], data[:, 23]\n",
        "# summarize total missing\n",
        "print('Missing: %d' % sum(isnan(X).flatten()))\n",
        "# define imputer\n",
        "imputer = SimpleImputer(strategy='mean')\n",
        "# fit on the dataset\n",
        "imputer.fit(X)\n",
        "# transform the dataset\n",
        "Xtrans = imputer.transform(X)\n",
        "# summarize total missing\n",
        "print('Missing: %d' % sum(isnan(Xtrans).flatten()))\n"
      ],
      "metadata": {
        "colab": {
          "base_uri": "https://localhost:8080/"
        },
        "id": "7RtJqA6JQ1hr",
        "outputId": "17fa6bbe-1b68-4580-f15a-b04313056d0a"
      },
      "execution_count": null,
      "outputs": [
        {
          "output_type": "stream",
          "name": "stdout",
          "text": [
            "Missing: 1605\n",
            "Missing: 0\n"
          ]
        }
      ]
    },
    {
      "cell_type": "markdown",
      "source": [
        "## SimpleImputer y la evaluación de un modelo\n",
        "Siempre que queremos evaluar un modelo usando k-fold cross-validation debemos evitar el data leakage. Para aplicar la imputación en forma correcta, el estadístico a aplicar debe calcularse en las columnas de los folds que se usan en el entrenamiento para luego ser aplicados tanto al entrenamiento como al testeo. Para simplificar el proceso, esto puede hacerse creando un pipeline de procesamiento"
      ],
      "metadata": {
        "id": "PcXWcN6eRXxk"
      }
    },
    {
      "cell_type": "code",
      "source": [
        "# evaluate mean imputation and random forest for the horse colic dataset\n",
        "from numpy import mean\n",
        "from numpy import std\n",
        "from pandas import read_csv\n",
        "from sklearn.ensemble import RandomForestClassifier\n",
        "from sklearn.impute import SimpleImputer\n",
        "from sklearn.model_selection import cross_val_score\n",
        "from sklearn.model_selection import RepeatedStratifiedKFold\n",
        "from sklearn.pipeline import Pipeline\n",
        "# load dataset\n",
        "dataframe = read_csv('https://raw.githubusercontent.com/gustavovazquez/datasets/main/horse-colic.csv', header=None, na_values='?')\n",
        "# split into input and output elements\n",
        "data = dataframe.values\n",
        "ix = [i for i in range(data.shape[1]) if i != 23]\n",
        "X, y = data[:, ix], data[:, 23]\n",
        "# define modeling pipeline\n",
        "model = RandomForestClassifier()\n",
        "imputer = SimpleImputer(strategy='mean')\n",
        "pipeline = Pipeline(steps=[('i', imputer), ('m', model)])\n",
        "# define model evaluation\n",
        "cv = RepeatedStratifiedKFold(n_splits=10, n_repeats=3, random_state=1)\n",
        "# evaluate model\n",
        "scores = cross_val_score(pipeline, X, y, scoring='accuracy', cv=cv, n_jobs=-1)\n",
        "print('Mean Accuracy: %.3f (%.3f)' % (mean(scores), std(scores)))"
      ],
      "metadata": {
        "colab": {
          "base_uri": "https://localhost:8080/"
        },
        "id": "Bs7JkHUuSN37",
        "outputId": "727eac57-fa42-4e5c-8150-1fc34da09ff2"
      },
      "execution_count": null,
      "outputs": [
        {
          "output_type": "stream",
          "name": "stdout",
          "text": [
            "Mean Accuracy: 0.860 (0.050)\n"
          ]
        }
      ]
    },
    {
      "cell_type": "markdown",
      "source": [
        "## Comparando la imputación de diferentes estadísticos\n",
        "¿Es siempre la media el mejor estadístico para usar? En principio no podemos saberlo, pero podemos probar las diferentes opciones."
      ],
      "metadata": {
        "id": "eFpv3Tq0Silr"
      }
    },
    {
      "cell_type": "code",
      "source": [
        "# compare statistical imputation strategies for the horse colic dataset\n",
        "from numpy import mean\n",
        "from numpy import std\n",
        "from pandas import read_csv\n",
        "from sklearn.ensemble import RandomForestClassifier\n",
        "from sklearn.impute import SimpleImputer\n",
        "from sklearn.model_selection import cross_val_score\n",
        "from sklearn.model_selection import RepeatedStratifiedKFold\n",
        "from sklearn.pipeline import Pipeline\n",
        "from matplotlib import pyplot\n",
        "# load dataset\n",
        "dataframe = read_csv('https://raw.githubusercontent.com/gustavovazquez/datasets/main/horse-colic.csv', header=None, na_values='?')\n",
        "# split into input and output elements\n",
        "data = dataframe.values\n",
        "ix = [i for i in range(data.shape[1]) if i != 23]\n",
        "X, y = data[:, ix], data[:, 23]\n",
        "# evaluate each strategy on the dataset\n",
        "results = list()\n",
        "strategies = ['mean', 'median', 'most_frequent', 'constant']\n",
        "for s in strategies:\n",
        "  # create the modeling pipeline\n",
        "  pipeline = Pipeline(steps=[('i', SimpleImputer(strategy=s)), ('m', RandomForestClassifier())])\n",
        "  # evaluate the model\n",
        "  cv = RepeatedStratifiedKFold(n_splits=10, n_repeats=3, random_state=1)\n",
        "  scores = cross_val_score(pipeline, X, y, scoring='accuracy', cv=cv, n_jobs=-1)\n",
        "  # store results\n",
        "  results.append(scores)\n",
        "  print('>%s %.3f (%.3f)' % (s, mean(scores), std(scores)))\n",
        "# plot model performance for comparison\n",
        "pyplot.boxplot(results, labels=strategies, showmeans=True)\n",
        "pyplot.show()\n"
      ],
      "metadata": {
        "colab": {
          "base_uri": "https://localhost:8080/",
          "height": 554
        },
        "id": "GIld18UKS0r8",
        "outputId": "ff4d2790-b110-4acd-fb99-d2856d13e822"
      },
      "execution_count": null,
      "outputs": [
        {
          "output_type": "stream",
          "name": "stdout",
          "text": [
            ">mean 0.866 (0.054)\n",
            ">median 0.877 (0.059)\n",
            ">most_frequent 0.870 (0.057)\n",
            ">constant 0.873 (0.050)\n"
          ]
        },
        {
          "output_type": "stream",
          "name": "stderr",
          "text": [
            "<ipython-input-23-4d4d8f924b86>:30: MatplotlibDeprecationWarning: The 'labels' parameter of boxplot() has been renamed 'tick_labels' since Matplotlib 3.9; support for the old name will be dropped in 3.11.\n",
            "  pyplot.boxplot(results, labels=strategies, showmeans=True)\n"
          ]
        },
        {
          "output_type": "display_data",
          "data": {
            "text/plain": [
              "<Figure size 640x480 with 1 Axes>"
            ],
            "image/png": "[encoded data removed]"
          },
          "metadata": {}
        }
      ]
    },
    {
      "cell_type": "markdown",
      "source": [
        "## SimpleImputer al momento de realizar una predicción\n",
        "Las muestras a predecir también pueden incluir valores faltantes, por lo tanto debe aplicarse la misma transformación usada en el entrenamiento. Para esto incluimos el pipeline de la transformación antes de invocar al método `predict`.\n"
      ],
      "metadata": {
        "id": "CzmKaLfITVFg"
      }
    },
    {
      "cell_type": "code",
      "source": [
        "# constant imputation strategy and prediction for the horse colic dataset\n",
        "from numpy import nan\n",
        "from pandas import read_csv\n",
        "from sklearn.ensemble import RandomForestClassifier\n",
        "from sklearn.impute import SimpleImputer\n",
        "from sklearn.pipeline import Pipeline\n",
        "# load dataset\n",
        "dataframe = read_csv('https://raw.githubusercontent.com/gustavovazquez/datasets/main/horse-colic.csv', header=None, na_values='?')\n",
        "# split into input and output elements\n",
        "data = dataframe.values\n",
        "ix = [i for i in range(data.shape[1]) if i != 23]\n",
        "X, y = data[:, ix], data[:, 23]\n",
        "# create the modeling pipeline\n",
        "pipeline = Pipeline(steps=[('i', SimpleImputer(strategy='constant')), ('m', RandomForestClassifier())])\n",
        "# fit the model\n",
        "pipeline.fit(X, y)\n",
        "# define new data\n",
        "row = [2, 1, 530101, 38.50, 66, 28, 3, 3, nan, 2, 5, 4, 4, nan, nan, nan, 3, 5, 45.00, 8.40, nan, nan, 2, 11300, 00000, 00000, 2]\n",
        "# make a prediction\n",
        "yhat = pipeline.predict([row])\n",
        "# summarize prediction\n",
        "print('Predicted Class: %d' % yhat[0])"
      ],
      "metadata": {
        "colab": {
          "base_uri": "https://localhost:8080/"
        },
        "id": "Jr0p3yt5Tx3p",
        "outputId": "da5a16d7-4608-4226-c7e8-84d4cb58df6c"
      },
      "execution_count": null,
      "outputs": [
        {
          "output_type": "stream",
          "name": "stdout",
          "text": [
            "Predicted Class: 2\n"
          ]
        }
      ]
    },
    {
      "cell_type": "markdown",
      "source": [
        "# Imputación mediante un método de aprendizaje\n",
        "Un enfoque muy utilizado es el uso de modelos de aprendizaje automático para inferir el valor de un dato no disponible. La desventaja principal es que esto requiere ajustar un modelo para cada variable que contiene datos faltantes. Si bien puede usarse cualquier método, KNN suele ser muy efectivo (la técnica se suele denominar nearest neighbor imputation).\n",
        "Scikit-learn directamente proporciona la clase `KNNImputer` para esta tarea.   "
      ],
      "metadata": {
        "id": "N8m5QXd5UDG3"
      }
    },
    {
      "cell_type": "code",
      "source": [
        "# knn imputation transform for the horse colic dataset\n",
        "from numpy import isnan\n",
        "from pandas import read_csv\n",
        "from sklearn.impute import KNNImputer\n",
        "# load dataset\n",
        "dataframe = read_csv('https://raw.githubusercontent.com/gustavovazquez/datasets/main/horse-colic.csv', header=None, na_values='?')\n",
        "# split into input and output elements\n",
        "data = dataframe.values\n",
        "ix = [i for i in range(data.shape[1]) if i != 23]\n",
        "X, y = data[:, ix], data[:, 23]\n",
        "# summarize total missing\n",
        "print('Missing: %d' % sum(isnan(X).flatten()))\n",
        "# define imputer\n",
        "imputer = KNNImputer()\n",
        "# fit on the dataset\n",
        "imputer.fit(X)\n",
        "# transform the dataset\n",
        "Xtrans = imputer.transform(X)\n",
        "# summarize total missing\n",
        "print('Missing: %d' % sum(isnan(Xtrans).flatten()))"
      ],
      "metadata": {
        "colab": {
          "base_uri": "https://localhost:8080/"
        },
        "id": "PfE0jfkzVW2i",
        "outputId": "f32a3cf9-da9e-427a-fa75-f2aeaadd270a"
      },
      "execution_count": null,
      "outputs": [
        {
          "output_type": "stream",
          "name": "stdout",
          "text": [
            "Missing: 1605\n",
            "Missing: 0\n"
          ]
        }
      ]
    },
    {
      "cell_type": "markdown",
      "source": [
        "#Power Transform\n",
        "Busca transformar los datos a una forma gausiana o 'gaussian like'.\n",
        "Las dos transformaciones principales son:\n",
        "- Box-Cox Transform\n",
        "- Yeo-Johnson Transform\n",
        "\n",
        "Box-Cox propone una familia de transformaciones controladas por una parámetro $λ$:\n",
        "\n",
        "- $λ$ = −1.0 es una transformación recíproca\n",
        "- $λ$ = −0.5 es la raiz cuadrada de la transformación recíproca\n",
        "- $λ$ = 0.0 es una transformación logarítmica\n",
        "- $λ$ = 0.5 es una transformación raíz cuadrada\n",
        "- $λ$ = 1.0 no produce transformación\n",
        "\n",
        "Una vez determinado el parámetro $λ$ (siempre en el conjunto de entrenamiento) puede aplicarse la transformacón en el conjunto de test.\n",
        "\n",
        "En scikitlearn se dispone del método `PowerTransformer` que automáticamente determina el parámetro $λ$ para cada variable.\n",
        "\n",
        "# Ejemplo con dataset Sonar\n",
        "\n",
        "Primero desarrollamos un modelo sin transformar sus elementos."
      ],
      "metadata": {
        "id": "_lHjj0Cik-J-"
      }
    },
    {
      "cell_type": "code",
      "source": [
        "# evaluate knn on the raw sonar dataset\n",
        "from numpy import mean\n",
        "from numpy import std\n",
        "from pandas import read_csv\n",
        "from sklearn.model_selection import cross_val_score\n",
        "from sklearn.model_selection import RepeatedStratifiedKFold\n",
        "from sklearn.neighbors import KNeighborsClassifier\n",
        "from sklearn.preprocessing import LabelEncoder\n",
        "from sklearn.impute import SimpleImputer\n",
        "# load dataset\n",
        "dataframe = read_csv('https://raw.githubusercontent.com/gustavovazquez/datasets/main/sonar.csv', header=None)\n",
        "data = dataset.values\n",
        "\n",
        "# separate into input and output columns\n",
        "X, y = data[:, :-1], data[:, -1]\n",
        "# ensure inputs are floats and output is an integer label\n",
        "X = X.astype('float32')\n",
        "# define imputer\n",
        "imputer = SimpleImputer(strategy='mean')\n",
        "# fit on the dataset\n",
        "imputer.fit(X)\n",
        "# transform the dataset\n",
        "X = imputer.transform(X)\n",
        "y = LabelEncoder().fit_transform(y.astype('str'))\n",
        "# define and configure the model\n",
        "model = KNeighborsClassifier()\n",
        "# histograms of the variables\n",
        "fig = dataset.hist(xlabelsize=4, ylabelsize=4)\n",
        "[x.title.set_size(4) for x in fig.ravel()]\n",
        "# show the plot\n",
        "pyplot.show()\n",
        "\n",
        "# evaluate the model\n",
        "cv = RepeatedStratifiedKFold(n_splits=10, n_repeats=3, random_state=1)\n",
        "n_scores = cross_val_score(model, X, y, scoring='accuracy', cv=cv, n_jobs=-1)\n",
        "# report model performance\n",
        "print('Accuracy: %.3f (%.3f)' % (mean(n_scores), std(n_scores)))"
      ],
      "metadata": {
        "colab": {
          "base_uri": "https://localhost:8080/",
          "height": 450
        },
        "id": "zFVNisA1pUJB",
        "outputId": "8e0bcf04-7e08-4ffd-8d3e-eebd9ee906d6"
      },
      "execution_count": null,
      "outputs": [
        {
          "output_type": "display_data",
          "data": {
            "text/plain": [
              "<Figure size 640x480 with 9 Axes>"
            ],
            "image/png": "[encoded data removed]"
          },
          "metadata": {}
        },
        {
          "output_type": "stream",
          "name": "stdout",
          "text": [
            "Accuracy: 0.721 (0.041)\n"
          ]
        }
      ]
    },
    {
      "cell_type": "markdown",
      "source": [
        "Ahora aplicamos la transformación Box-Cox (escalamos los datos pues Box-Cox no acepta valores negativos)."
      ],
      "metadata": {
        "id": "gZAG9JiUpqdi"
      }
    },
    {
      "cell_type": "code",
      "source": [
        "# visualize a box-cox transform of the scaled sonar dataset\n",
        "from pandas import read_csv\n",
        "from pandas import DataFrame\n",
        "from sklearn.preprocessing import PowerTransformer\n",
        "from sklearn.preprocessing import MinMaxScaler\n",
        "from sklearn.pipeline import Pipeline\n",
        "from matplotlib import pyplot\n",
        "# Load dataset\n",
        "dataframe = read_csv('https://raw.githubusercontent.com/gustavovazquez/datasets/main/sonar.csv', header=None)\n",
        "# retrieve just the numeric input values\n",
        "data = dataset.values[:, :-1]\n",
        "# perform a box-cox transform of the dataset\n",
        "scaler = MinMaxScaler(feature_range=(1, 2))\n",
        "power = PowerTransformer(method='box-cox')\n",
        "pipeline = Pipeline(steps=[('s', scaler),('p', power)])\n",
        "data = pipeline.fit_transform(data)\n",
        "# convert the array back to a dataframe\n",
        "dataset = DataFrame(data)\n",
        "# histograms of the variables\n",
        "fig = dataset.hist(xlabelsize=4, ylabelsize=4)\n",
        "[x.title.set_size(4) for x in fig.ravel()]\n",
        "# show the plot\n",
        "pyplot.show()"
      ],
      "metadata": {
        "colab": {
          "base_uri": "https://localhost:8080/",
          "height": 433
        },
        "id": "Q8HIArHZq0UZ",
        "outputId": "a14ff468-f37b-4da1-9eb7-be4da16ec581"
      },
      "execution_count": null,
      "outputs": [
        {
          "output_type": "display_data",
          "data": {
            "text/plain": [
              "<Figure size 640x480 with 9 Axes>"
            ],
            "image/png": "[encoded data removed]"
          },
          "metadata": {}
        }
      ]
    },
    {
      "cell_type": "markdown",
      "source": [
        "Luego el modelo es"
      ],
      "metadata": {
        "id": "z6k4_P9orfB1"
      }
    },
    {
      "cell_type": "code",
      "source": [
        "# evaluate knn on the box-cox sonar dataset\n",
        "from numpy import mean\n",
        "from numpy import std\n",
        "from pandas import read_csv\n",
        "from sklearn.model_selection import cross_val_score\n",
        "from sklearn.model_selection import RepeatedStratifiedKFold\n",
        "from sklearn.neighbors import KNeighborsClassifier\n",
        "from sklearn.preprocessing import LabelEncoder\n",
        "from sklearn.preprocessing import PowerTransformer\n",
        "from sklearn.preprocessing import MinMaxScaler\n",
        "from sklearn.impute import SimpleImputer\n",
        "from sklearn.pipeline import Pipeline\n",
        "# load dataset\n",
        "dataframe = read_csv('https://raw.githubusercontent.com/gustavovazquez/datasets/main/sonar.csv', header=None)\n",
        "data = dataset.values\n",
        "# separate into input and output columns\n",
        "X, y = data[:, :-1], data[:, -1]\n",
        "# ensure inputs are floats and output is an integer label\n",
        "X = X.astype('float32')\n",
        "y = LabelEncoder().fit_transform(y.astype('str'))\n",
        "# define the pipeline\n",
        "scaler = MinMaxScaler(feature_range=(1, 2))\n",
        "power = PowerTransformer(method='box-cox')\n",
        "imputer = SimpleImputer(strategy='mean')\n",
        "model = KNeighborsClassifier()\n",
        "pipeline = Pipeline(steps=[('s', scaler),('p', power), ('i', imputer), ('m', model)])\n",
        "# evaluate the pipeline\n",
        "cv = RepeatedStratifiedKFold(n_splits=10, n_repeats=3, random_state=1)\n",
        "n_scores = cross_val_score(pipeline, X, y, scoring='accuracy', cv=cv, n_jobs=-1)\n",
        "# report pipeline performance\n",
        "print('Accuracy: %.3f (%.3f)' % (mean(n_scores), std(n_scores)))\n"
      ],
      "metadata": {
        "colab": {
          "base_uri": "https://localhost:8080/"
        },
        "id": "6EY2F2-QrgbS",
        "outputId": "7eb28248-883c-4e0f-f0a9-1997b2e0236a"
      },
      "execution_count": null,
      "outputs": [
        {
          "output_type": "stream",
          "name": "stderr",
          "text": [
            "/usr/local/lib/python3.11/dist-packages/sklearn/model_selection/_split.py:805: UserWarning: The least populated class in y has only 1 members, which is less than n_splits=10.\n",
            "  warnings.warn(\n",
            "/usr/local/lib/python3.11/dist-packages/sklearn/model_selection/_split.py:805: UserWarning: The least populated class in y has only 1 members, which is less than n_splits=10.\n",
            "  warnings.warn(\n",
            "/usr/local/lib/python3.11/dist-packages/sklearn/model_selection/_split.py:805: UserWarning: The least populated class in y has only 1 members, which is less than n_splits=10.\n",
            "  warnings.warn(\n"
          ]
        },
        {
          "output_type": "stream",
          "name": "stdout",
          "text": [
            "Accuracy: 0.063 (0.026)\n"
          ]
        }
      ]
    },
    {
      "cell_type": "markdown",
      "source": [
        "# Selección de atributos\n",
        "La selección de atributos en un problema de aprendizaje supervisado puede hacerse de diversas maneras. Las técnicas para descartar variables que aportan poca información para predecir la variable dependiente (por ejemplo variables con valores constantes o mínima varianza) son una forma fundamental y trivial para realizar esto. También la correlación entre una una variable independiente y la variable dependiente es una medida de importancia del predictor (siempre pensando en un contexto de modelos lineales).\n",
        "También los propios modelos de aprendizaje por la formulación matemática en la cual se basan tienen su propio mecanismo de selección de atributos. Por ejemplo en un modelo de regresión lineal por mínimos cuadrados o regresión logística, cuando se aplican técnicas de regularización implícitamente se realiza una selección de los mejores atributos pues los coeficientes de la regresión que son forzados a cero se asumen como no relevantes para el modelo. Los árboles de decisión, Random forest y los métodos de Boosting en general también tienen formas en su proceso de entrenamiento que permiten identificar los atributos más útiles para un determinado modelo (y obviamente un determinado data set).\n",
        "\n",
        "## Filter-based feature selection\n",
        "\n"
      ],
      "metadata": {
        "id": "WwbcJIMv09eD"
      }
    },
    {
      "cell_type": "code",
      "source": [
        "from sklearn.datasets import load_iris\n",
        "from sklearn.feature_selection import SelectKBest\n",
        "from sklearn.feature_selection import f_classif\n",
        "X, y = load_iris(return_X_y=True)\n",
        "X.shape\n",
        "X_new = SelectKBest(f_classif, k=2).fit_transform(X, y)\n",
        "X_new.shape"
      ],
      "metadata": {
        "colab": {
          "base_uri": "https://localhost:8080/"
        },
        "id": "bOILzlpG8A5g",
        "outputId": "21364c56-f365-4292-834f-91554e053205"
      },
      "execution_count": null,
      "outputs": [
        {
          "output_type": "execute_result",
          "data": {
            "text/plain": [
              "(150, 2)"
            ]
          },
          "metadata": {},
          "execution_count": 29
        }
      ]
    },
    {
      "cell_type": "markdown",
      "source": [
        "## Wrapper-based feature selection\n",
        "\n",
        "\n",
        "## RFE (Recursive Feature Elimination)\n",
        "\n",
        "Dado un estimador o modelo que asigna un score de importancia de las variables independientes (por ejemplo, los coeficientes de un modelo lineal), el objetivo de la eliminación recursiva de features (RFE) es seleccionarlos recursivamente. Aquí es que aparece el concepto de wrapper: el método \"externo\" realiza la selección en forma recursiva, pero a partir de lo que va informando el modelo \"wrappeado\" de cómo es la importancia de cada predictor. Primero, el modelo se entrena en el conjunto inicial de predictores y la importancia de cada predictor  se obtiene a través del modelo que lo implementa (como coef_, feature_importances_). Luego, los predictores menos importantes se eliminan del conjunto de características actual. Este procedimiento se repite recursivamente en el conjunto podado hasta que finalmente se alcanza el número deseado de features para seleccionar.\n",
        "\n",
        "### Algoritmo\n",
        "\n",
        "El algoritmo de Recursive Feature Extraction opera mediante los siguientes pasos:\n",
        "\n",
        "- 1) Selección Inicial: Inicialmente, se entrena un modelo utilizando todas las características disponibles en el conjunto de datos. Se evalúa la importancia relativa de cada característica en función de su contribución al rendimiento del modelo.\n",
        "\n",
        "- 2) Eliminación de Características: Se procede a eliminar las características consideradas menos relevantes. Estas características aportan información limitada al modelo y, en algunos casos, pueden incluso introducir ruido en la interpretación de los datos.\n",
        "\n",
        "- 3) Nuevo Entrenamiento: El modelo se vuelve a entrenar utilizando únicamente las características que no han sido eliminadas en el paso anterior. Esto permite al modelo adaptarse a la nueva configuración de características y afinar su capacidad predictiva.\n",
        "\n",
        "- 4) Iteración Recursiva: Los pasos 2 y 3 se repiten en una forma recursiva. En cada iteración, se identifican y eliminan las características menos importantes, seguidas de un nuevo proceso de entrenamiento. Esta secuencia se repite hasta alcanzar un criterio de terminación, que podría ser un número predefinido de características o una métrica específica.\n",
        "\n",
        "- 5) Resultado Final: Al completar las iteraciones, se obtiene un conjunto de características seleccionadas que se consideran las más influyentes para el modelo. Estas características depuradas y significativas pueden ser empleadas en la construcción de modelos más simplificados y efectivos.\n",
        "\n",
        "En la implementación de RFE es necesario indicar el número de variables a seleccionar. Si se desea hacer el cálculo en forma automática, RFECV realiza RFE en un ciclo de validación cruzada para encontrar la cantidad óptima de características.\n"
      ],
      "metadata": {
        "id": "4adcm-m8_LTZ"
      }
    },
    {
      "cell_type": "code",
      "source": [
        "# ejemplo de utilización de RFECV\n",
        "\n",
        "from sklearn.datasets import make_classification\n",
        "from sklearn.feature_selection import RFECV\n",
        "from sklearn.linear_model import LogisticRegression\n",
        "from sklearn.model_selection import StratifiedKFold\n",
        "\n",
        "X, y = make_classification(\n",
        "    n_samples=500,\n",
        "    n_features=15,\n",
        "    n_informative=5,\n",
        "    n_redundant=2,\n",
        "    n_repeated=0,\n",
        "    n_classes=8,\n",
        "    n_clusters_per_class=1,\n",
        "    class_sep=0.8,\n",
        "    random_state=0,\n",
        ")\n",
        "\n",
        "min_features_to_select = 1  # Minimum number of features to consider\n",
        "clf = LogisticRegression()\n",
        "cv = StratifiedKFold(5)\n",
        "\n",
        "rfecv = RFECV(\n",
        "    estimator=clf,\n",
        "    step=1,\n",
        "    cv=cv,\n",
        "    scoring=\"accuracy\",\n",
        ")\n",
        "rfecv.fit(X, y)\n",
        "\n",
        "print(f\"Optimal number of features: {rfecv.n_features_}\")"
      ],
      "metadata": {
        "colab": {
          "base_uri": "https://localhost:8080/"
        },
        "id": "_EpPxh61CUN9",
        "outputId": "9fde4c7b-4ef2-46fd-8528-57bf91ddc378"
      },
      "execution_count": null,
      "outputs": [
        {
          "output_type": "stream",
          "name": "stdout",
          "text": [
            "Optimal number of features: 5\n"
          ]
        }
      ]
    },
    {
      "cell_type": "markdown",
      "source": [
        "Otra forma de Wrapper-based method es SequentialFeatureSelector, similar a RFE, pero con la particularidad de que puede empezar con un conjunto de atributos seleccionados vacío, para ir agregando en cada iteración (puede ser forward o backward)."
      ],
      "metadata": {
        "id": "1zx49Lk4QdKf"
      }
    }
  ]
}