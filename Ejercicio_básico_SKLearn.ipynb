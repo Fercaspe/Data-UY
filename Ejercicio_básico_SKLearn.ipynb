{
  "nbformat": 4,
  "nbformat_minor": 0,
  "metadata": {
    "colab": {
      "provenance": [],
      "include_colab_link": true
    },
    "kernelspec": {
      "name": "python3",
      "display_name": "Python 3"
    },
    "language_info": {
      "name": "python"
    }
  },
  "cells": [
    {
      "cell_type": "markdown",
      "metadata": {
        "id": "view-in-github",
        "colab_type": "text"
      },
      "source": [
        "<a href=\"https://colab.research.google.com/github/Fercaspe/Data-UY/blob/main/Ejercicio_b%C3%A1sico_SKLearn.ipynb\" target=\"_parent\"><img src=\"https://colab.research.google.com/assets/colab-badge.svg\" alt=\"Open In Colab\"/></a>"
      ]
    },
    {
      "cell_type": "markdown",
      "source": [
        "# Ejercicio básico para carga de datos y tratamiento\n",
        "\n",
        "Lee el siguiente archivo de datos csv.\n",
        "Este archivo contiene datos de varias propiedades. Te en cuenta que este va a ser un problema supervisado.\n",
        "\n",
        "1. Para interiorizarte en las características de los datos, lee el siguiente sitio: https://rdrr.io/cran/mosaicData/man/SaratogaHouses.html\n",
        "2. Carga los datos en un dataframe (el archivo lo encontrarás en https://raw.githubusercontent.com/gustavovazquez/datasets/main/SaratogaHouses.csv\n",
        "3. Muestra la información básica: tamaño, estadística descriptiva\n",
        "4. Normaliza los datos numéricos y convierte los datos categóricos usando one-hot encoding\n"
      ],
      "metadata": {
        "id": "t7HER87TnTiM"
      }
    },
    {
      "cell_type": "code",
      "source": [],
      "metadata": {
        "id": "kncXATVPplM-"
      },
      "execution_count": null,
      "outputs": []
    }
  ]
}